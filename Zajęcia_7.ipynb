{
  "nbformat": 4,
  "nbformat_minor": 0,
  "metadata": {
    "colab": {
      "name": "Zajęcia 7.ipynb",
      "provenance": [],
      "collapsed_sections": []
    },
    "kernelspec": {
      "name": "python3",
      "display_name": "Python 3"
    }
  },
  "cells": [
    {
      "cell_type": "markdown",
      "metadata": {
        "id": "VjiHmynxOuAI"
      },
      "source": [
        "Zajęcia z uczenia maszynowego\r\n",
        "\r\n",
        "\r\n",
        "Na tym zajęciach realizowaliśmy jeden z tutoriali dostepnych na stronie kaggle.com aby zapoznać się z działaniem algorytmów uczenia maszynowego.\r\n",
        "\r\n",
        "# Poniższe kody działają w notatniku Kaggle.com, ***w środowisku Google Colab nie kompilują się***\r\n",
        "\r\n",
        "#Lekcja 2\r\n",
        "\r\n",
        "######*2 - Basic Data Exploration*\r\n",
        "\r\n",
        "Podczas tej lekcji, poznawaliśmy sposób wgrywania plików do notatnika oraz sposób wyświetlania statystyk o wgranych danych"
      ]
    },
    {
      "cell_type": "code",
      "metadata": {
        "id": "MMmcmlvFOlhw"
      },
      "source": [
        "# Set up code checking\r\n",
        "#testetetetetete\r\n",
        "from learntools.core import binder\r\n",
        "binder.bind(globals())\r\n",
        "from learntools.machine_learning.ex2 import *\r\n",
        "print(\"Setup Complete\")"
      ],
      "execution_count": null,
      "outputs": []
    },
    {
      "cell_type": "code",
      "metadata": {
        "id": "MWcpJEacPIwD"
      },
      "source": [
        "import pandas as pd\r\n",
        "\r\n",
        "# Path of the file to read\r\n",
        "iowa_file_path = '../input/home-data-for-ml-course/train.csv'\r\n",
        "\r\n",
        "# Fill in the line below to read the file into a variable home_data\r\n",
        "home_data = pd.read_csv(iowa_file_path)\r\n",
        "\r\n",
        "# Call line below with no argument to check that you've loaded the data correctly\r\n",
        "step_1.check()"
      ],
      "execution_count": null,
      "outputs": []
    },
    {
      "cell_type": "code",
      "metadata": {
        "id": "GpEFoOHfPKSB"
      },
      "source": [
        "# Lines below will give you a hint or solution code\r\n",
        "step_1.hint()\r\n",
        "step_1.solution()"
      ],
      "execution_count": null,
      "outputs": []
    },
    {
      "cell_type": "code",
      "metadata": {
        "id": "5SXOpdczPL7Y"
      },
      "source": [
        "# Print summary statistics in next line\r\n",
        "home_data.describe()"
      ],
      "execution_count": null,
      "outputs": []
    },
    {
      "cell_type": "code",
      "metadata": {
        "id": "SSDpBARQPNdR"
      },
      "source": [
        "# What is the average lot size (rounded to nearest integer)?\r\n",
        "avg_lot_size = 10517\r\n",
        "\r\n",
        "# As of today, how old is the newest home (current year - the date in which it was built)\r\n",
        "newest_home_age = 10\r\n",
        "\r\n",
        "# Checks your answers\r\n",
        "step_2.check()"
      ],
      "execution_count": null,
      "outputs": []
    },
    {
      "cell_type": "code",
      "metadata": {
        "id": "6zlUec11POy3"
      },
      "source": [
        "step_2.hint()\r\n",
        "step_2.solution()"
      ],
      "execution_count": null,
      "outputs": []
    },
    {
      "cell_type": "markdown",
      "metadata": {
        "id": "NZv3_0g9PQiI"
      },
      "source": [
        "\r\n",
        "#Lekcja 3\r\n",
        "\r\n",
        "######3 - **Your first machine learning model**\r\n",
        "Podczas tej lekcji poznaliśmy pojęcia \"cel prognozy\" i \"funkcji\" , zbudowaliśmy model typu drzewo decyzyjne oraz poznaliśmy funkcje przewidywania"
      ]
    },
    {
      "cell_type": "code",
      "metadata": {
        "id": "smGAR4HsQjy_"
      },
      "source": [
        "# Code you have previously used to load data\r\n",
        "import pandas as pd\r\n",
        "\r\n",
        "# Path of the file to read\r\n",
        "iowa_file_path = '../input/home-data-for-ml-course/train.csv'\r\n",
        "\r\n",
        "home_data = pd.read_csv(iowa_file_path)\r\n",
        "\r\n",
        "# Set up code checking\r\n",
        "from learntools.core import binder\r\n",
        "binder.bind(globals())\r\n",
        "from learntools.machine_learning.ex3 import *\r\n",
        "\r\n",
        "print(\"Setup Complete\")"
      ],
      "execution_count": null,
      "outputs": []
    },
    {
      "cell_type": "code",
      "metadata": {
        "id": "8bFTqVcSQll_"
      },
      "source": [
        "# print the list of columns in the dataset to find the name of the prediction target"
      ],
      "execution_count": null,
      "outputs": []
    },
    {
      "cell_type": "code",
      "metadata": {
        "id": "UIyi0X5fQm21"
      },
      "source": [
        "y = home_data.SalePrice\r\n",
        "\r\n",
        "# Check your answer\r\n",
        "step_1.check()"
      ],
      "execution_count": null,
      "outputs": []
    },
    {
      "cell_type": "code",
      "metadata": {
        "id": "om630-3fQoDT"
      },
      "source": [
        "# The lines below will show you a hint or the solution.\r\n",
        "#step_1.hint() \r\n",
        "#step_1.solution()"
      ],
      "execution_count": null,
      "outputs": []
    },
    {
      "cell_type": "code",
      "metadata": {
        "id": "BKXt4CTTQpYa"
      },
      "source": [
        "# Create the list of features below\r\n",
        "feature_names = [\"LotArea\",\"YearBuilt\",\"1stFlrSF\",\"2ndFlrSF\",\"FullBath\",\"BedroomAbvGr\",\"TotRmsAbvGrd\"]\r\n",
        "\r\n",
        "# Select data corresponding to features in feature_names\r\n",
        "X = home_data[feature_names]\r\n",
        "\r\n",
        "# Check your answer\r\n",
        "step_2.check()"
      ],
      "execution_count": null,
      "outputs": []
    },
    {
      "cell_type": "code",
      "metadata": {
        "id": "oR5enLB0QqqB"
      },
      "source": [
        "# step_2.hint()\r\n",
        "# step_2.solution()"
      ],
      "execution_count": null,
      "outputs": []
    },
    {
      "cell_type": "code",
      "metadata": {
        "id": "C7R_3-TvQsFp"
      },
      "source": [
        "# Review data\r\n",
        "# print description or statistics from X\r\n",
        "print(X.describe())\r\n",
        "\r\n",
        "# print the top few lines\r\n",
        "print(X.head())"
      ],
      "execution_count": null,
      "outputs": []
    },
    {
      "cell_type": "code",
      "metadata": {
        "id": "bqpyXLS6QtNm"
      },
      "source": [
        "from sklearn.tree import DecisionTreeRegressor\r\n",
        "#specify the model. \r\n",
        "#For model reproducibility, set a numeric value for random_state when specifying the model\r\n",
        "iowa_model = DecisionTreeRegressor(random_state=1)\r\n",
        "\r\n",
        "# Fit the model\r\n",
        "iowa_model.fit(X, y)\r\n",
        "\r\n",
        "# Check your answer\r\n",
        "step_3.check()"
      ],
      "execution_count": null,
      "outputs": []
    },
    {
      "cell_type": "code",
      "metadata": {
        "id": "Uqed_oi4Qurl"
      },
      "source": [
        "# step_3.hint()\r\n",
        "# step_3.solution()"
      ],
      "execution_count": null,
      "outputs": []
    },
    {
      "cell_type": "code",
      "metadata": {
        "id": "zDNBFm6JQvuY"
      },
      "source": [
        "predictions = iowa_model.predict(X)\r\n",
        "print(predictions)\r\n",
        "\r\n",
        "# Check your answer\r\n",
        "step_4.check()"
      ],
      "execution_count": null,
      "outputs": []
    },
    {
      "cell_type": "code",
      "metadata": {
        "id": "1v7WcWp3QxCl"
      },
      "source": [
        "# step_4.hint()\r\n",
        "# step_4.solution()"
      ],
      "execution_count": null,
      "outputs": []
    },
    {
      "cell_type": "code",
      "metadata": {
        "id": "YR47cQL6QyHA"
      },
      "source": [
        "# You can write code in this cell\r\n",
        "print(\"actual:\",y.head().tolist())\r\n",
        "print(\"predictions:\",iowa_model.predict(X.head()))"
      ],
      "execution_count": null,
      "outputs": []
    },
    {
      "cell_type": "markdown",
      "metadata": {
        "id": "zy-75-njgB8S"
      },
      "source": [
        "Lekcja 4 \r\n",
        "\r\n",
        "Model Validation\r\n",
        "\r\n",
        "wykorzystywanie walidacji modelu aby określić dokładność działania modelu"
      ]
    },
    {
      "cell_type": "code",
      "metadata": {
        "id": "iPOu8G52gCd2"
      },
      "source": [
        "# Code you have previously used to load data\r\n",
        "import pandas as pd\r\n",
        "from sklearn.tree import DecisionTreeRegressor\r\n",
        "\r\n",
        "# Path of the file to read\r\n",
        "iowa_file_path = '../input/home-data-for-ml-course/train.csv'\r\n",
        "\r\n",
        "home_data = pd.read_csv(iowa_file_path)\r\n",
        "y = home_data.SalePrice\r\n",
        "feature_columns = ['LotArea', 'YearBuilt', '1stFlrSF', '2ndFlrSF', 'FullBath', 'BedroomAbvGr', 'TotRmsAbvGrd']\r\n",
        "X = home_data[feature_columns]\r\n",
        "\r\n",
        "# Specify Model\r\n",
        "iowa_model = DecisionTreeRegressor()\r\n",
        "# Fit Model\r\n",
        "iowa_model.fit(X, y)\r\n",
        "\r\n",
        "print(\"First in-sample predictions:\", iowa_model.predict(X.head()))\r\n",
        "print(\"Actual target values for those homes:\", y.head().tolist())\r\n",
        "\r\n",
        "# Set up code checking\r\n",
        "from learntools.core import binder\r\n",
        "binder.bind(globals())\r\n",
        "from learntools.machine_learning.ex4 import *\r\n",
        "print(\"Setup Complete\")"
      ],
      "execution_count": null,
      "outputs": []
    },
    {
      "cell_type": "code",
      "metadata": {
        "id": "lzzMHo_YgJf9"
      },
      "source": [
        "# Import the train_test_split function and uncomment\r\n",
        "from sklearn.model_selection import train_test_split\r\n",
        "\r\n",
        "# fill in and uncomment\r\n",
        "train_X, val_X, train_y, val_y = train_test_split(X, y, random_state = 1)\r\n",
        "\r\n",
        "# Check your answer\r\n",
        "step_1.check()"
      ],
      "execution_count": null,
      "outputs": []
    },
    {
      "cell_type": "code",
      "metadata": {
        "id": "VKqu6TIpgLT7"
      },
      "source": [
        "# The lines below will show you a hint or the solution.\r\n",
        "# step_1.hint() \r\n",
        "# step_1.solution()"
      ],
      "execution_count": null,
      "outputs": []
    },
    {
      "cell_type": "code",
      "metadata": {
        "id": "i8n1M68mgM_9"
      },
      "source": [
        "# You imported DecisionTreeRegressor in your last exercise\r\n",
        "# and that code has been copied to the setup code above. So, no need to\r\n",
        "# import it again\r\n",
        "\r\n",
        "# Specify the model\r\n",
        "iowa_model = DecisionTreeRegressor(random_state = 1)\r\n",
        "\r\n",
        "# Fit iowa_model with the training data.\r\n",
        "iowa_model.fit(train_X, train_y)\r\n",
        "\r\n",
        "# Check your answer\r\n",
        "step_2.check()"
      ],
      "execution_count": null,
      "outputs": []
    },
    {
      "cell_type": "code",
      "metadata": {
        "id": "Dm2gspgYgOom"
      },
      "source": [
        "# step_2.hint()\r\n",
        "# step_2.solution()"
      ],
      "execution_count": null,
      "outputs": []
    },
    {
      "cell_type": "code",
      "metadata": {
        "id": "ERbR8zn0gP5I"
      },
      "source": [
        "# Predict with all validation observations\r\n",
        "val_predictions = iowa_model.predict(val_X)\r\n",
        "\r\n",
        "# Check your answer\r\n",
        "step_3.check()"
      ],
      "execution_count": null,
      "outputs": []
    },
    {
      "cell_type": "code",
      "metadata": {
        "id": "O-ECh-_ogRM0"
      },
      "source": [
        "# step_3.hint()\r\n",
        "# step_3.solution()"
      ],
      "execution_count": null,
      "outputs": []
    },
    {
      "cell_type": "code",
      "metadata": {
        "id": "_hGdAk78gSxH"
      },
      "source": [
        "# print the top few validation predictions\r\n",
        "print(iowa_model.predict(val_X.head()))\r\n",
        "# print the top few actual prices from validation data\r\n",
        "print(val_y.head().tolist())"
      ],
      "execution_count": null,
      "outputs": []
    },
    {
      "cell_type": "code",
      "metadata": {
        "id": "yuvRmSCZgTvG"
      },
      "source": [
        "from sklearn.metrics import mean_absolute_error\r\n",
        "val_mae = mean_absolute_error(val_y, val_predictions)\r\n",
        "\r\n",
        "# uncomment following line to see the validation_mae\r\n",
        "print(val_mae)\r\n",
        "\r\n",
        "# Check your answer\r\n",
        "step_4.check()"
      ],
      "execution_count": null,
      "outputs": []
    },
    {
      "cell_type": "code",
      "metadata": {
        "id": "FKlS405kgVH_"
      },
      "source": [
        "# step_4.hint()\r\n",
        "# step_4.solution()"
      ],
      "execution_count": null,
      "outputs": []
    },
    {
      "cell_type": "markdown",
      "metadata": {
        "id": "kP5BlVcpgWta"
      },
      "source": [
        "Lekcja 5 \r\n",
        "\r\n",
        "Underfitting and overfitting\r\n",
        "\r\n",
        "pojęcia niedopasowania i nadmiernego dopasowania modeli oraz sposoby zwiększania dokładności modeli"
      ]
    },
    {
      "cell_type": "code",
      "metadata": {
        "id": "ntml3BWigYZD"
      },
      "source": [
        "# Code you have previously used to load data\r\n",
        "import pandas as pd\r\n",
        "from sklearn.metrics import mean_absolute_error\r\n",
        "from sklearn.model_selection import train_test_split\r\n",
        "from sklearn.tree import DecisionTreeRegressor\r\n",
        "\r\n",
        "\r\n",
        "# Path of the file to read\r\n",
        "iowa_file_path = '../input/home-data-for-ml-course/train.csv'\r\n",
        "\r\n",
        "home_data = pd.read_csv(iowa_file_path)\r\n",
        "# Create target object and call it y\r\n",
        "y = home_data.SalePrice\r\n",
        "# Create X\r\n",
        "features = ['LotArea', 'YearBuilt', '1stFlrSF', '2ndFlrSF', 'FullBath', 'BedroomAbvGr', 'TotRmsAbvGrd']\r\n",
        "X = home_data[features]\r\n",
        "\r\n",
        "# Split into validation and training data\r\n",
        "train_X, val_X, train_y, val_y = train_test_split(X, y, random_state=1)\r\n",
        "\r\n",
        "# Specify Model\r\n",
        "iowa_model = DecisionTreeRegressor(random_state=1)\r\n",
        "# Fit Model\r\n",
        "iowa_model.fit(train_X, train_y)\r\n",
        "\r\n",
        "# Make validation predictions and calculate mean absolute error\r\n",
        "val_predictions = iowa_model.predict(val_X)\r\n",
        "val_mae = mean_absolute_error(val_predictions, val_y)\r\n",
        "print(\"Validation MAE: {:,.0f}\".format(val_mae))\r\n",
        "\r\n",
        "# Set up code checking\r\n",
        "from learntools.core import binder\r\n",
        "binder.bind(globals())\r\n",
        "from learntools.machine_learning.ex5 import *\r\n",
        "print(\"\\nSetup complete\")"
      ],
      "execution_count": null,
      "outputs": []
    },
    {
      "cell_type": "code",
      "metadata": {
        "id": "1uQoZuI_gi4k"
      },
      "source": [
        "def get_mae(max_leaf_nodes, train_X, val_X, train_y, val_y):\r\n",
        "    model = DecisionTreeRegressor(max_leaf_nodes=max_leaf_nodes, random_state=0)\r\n",
        "    model.fit(train_X, train_y)\r\n",
        "    preds_val = model.predict(val_X)\r\n",
        "    mae = mean_absolute_error(val_y, preds_val)\r\n",
        "    return(mae)"
      ],
      "execution_count": null,
      "outputs": []
    },
    {
      "cell_type": "code",
      "metadata": {
        "id": "TcNfxjpfgkbj"
      },
      "source": [
        "candidate_max_leaf_nodes = [5, 25, 50, 100, 250, 500]\r\n",
        "# Write loop to find the ideal tree size from candidate_max_leaf_nodes\r\n",
        "scores = {}\r\n",
        "for leaf_size in candidate_max_leaf_nodes:\r\n",
        "    scores[leaf_size] = get_mae(leaf_size, train_X, val_X, train_y, val_y)\r\n",
        "\r\n",
        "# Store the best value of max_leaf_nodes (it will be either 5, 25, 50, 100, 250 or 500)\r\n",
        "best_tree_size = min(scores, key=scores.get)\r\n",
        "\r\n",
        "# Check your answer\r\n",
        "step_1.check()\r\n",
        "\r\n",
        "print(scores)\r\n",
        "print(best_tree_size)"
      ],
      "execution_count": null,
      "outputs": []
    },
    {
      "cell_type": "code",
      "metadata": {
        "id": "QoZf5z9wgmG3"
      },
      "source": [
        "# The lines below will show you a hint or the solution.\r\n",
        "# step_1.hint() \r\n",
        "# step_1.solution()"
      ],
      "execution_count": null,
      "outputs": []
    },
    {
      "cell_type": "code",
      "metadata": {
        "id": "SG3K6SvZgnJJ"
      },
      "source": [
        "# Fill in argument to make optimal size and uncomment\r\n",
        "final_model = DecisionTreeRegressor(max_leaf_nodes=best_tree_size, random_state=1)\r\n",
        "\r\n",
        "# fit the final model and uncomment the next two lines\r\n",
        "final_model.fit(X, y)\r\n",
        "\r\n",
        "# Check your answer\r\n",
        "step_2.check()"
      ],
      "execution_count": null,
      "outputs": []
    },
    {
      "cell_type": "code",
      "metadata": {
        "id": "aJ8iHcNjgoZT"
      },
      "source": [
        "# step_2.hint()\r\n",
        "# step_2.solution()"
      ],
      "execution_count": null,
      "outputs": []
    },
    {
      "cell_type": "markdown",
      "metadata": {
        "id": "dDMgZryigqqp"
      },
      "source": [
        "Lekcja 6 \r\n",
        "\r\n",
        "Random Forests\r\n",
        "\r\n",
        "Modele lasu"
      ]
    },
    {
      "cell_type": "code",
      "metadata": {
        "id": "0FaJagZkgyqd"
      },
      "source": [
        "# Code you have previously used to load data\r\n",
        "import pandas as pd\r\n",
        "from sklearn.metrics import mean_absolute_error\r\n",
        "from sklearn.model_selection import train_test_split\r\n",
        "from sklearn.tree import DecisionTreeRegressor\r\n",
        "\r\n",
        "\r\n",
        "# Path of the file to read\r\n",
        "iowa_file_path = '../input/home-data-for-ml-course/train.csv'\r\n",
        "\r\n",
        "home_data = pd.read_csv(iowa_file_path)\r\n",
        "# Create target object and call it y\r\n",
        "y = home_data.SalePrice\r\n",
        "# Create X\r\n",
        "features = ['LotArea', 'YearBuilt', '1stFlrSF', '2ndFlrSF', 'FullBath', 'BedroomAbvGr', 'TotRmsAbvGrd']\r\n",
        "X = home_data[features]\r\n",
        "\r\n",
        "# Split into validation and training data\r\n",
        "train_X, val_X, train_y, val_y = train_test_split(X, y, random_state=1)\r\n",
        "\r\n",
        "# Specify Model\r\n",
        "iowa_model = DecisionTreeRegressor(random_state=1)\r\n",
        "# Fit Model\r\n",
        "iowa_model.fit(train_X, train_y)\r\n",
        "\r\n",
        "# Make validation predictions and calculate mean absolute error\r\n",
        "val_predictions = iowa_model.predict(val_X)\r\n",
        "val_mae = mean_absolute_error(val_predictions, val_y)\r\n",
        "print(\"Validation MAE when not specifying max_leaf_nodes: {:,.0f}\".format(val_mae))\r\n",
        "\r\n",
        "# Using best value for max_leaf_nodes\r\n",
        "iowa_model = DecisionTreeRegressor(max_leaf_nodes=100, random_state=1)\r\n",
        "iowa_model.fit(train_X, train_y)\r\n",
        "val_predictions = iowa_model.predict(val_X)\r\n",
        "val_mae = mean_absolute_error(val_predictions, val_y)\r\n",
        "print(\"Validation MAE for best value of max_leaf_nodes: {:,.0f}\".format(val_mae))\r\n",
        "\r\n",
        "\r\n",
        "# Set up code checking\r\n",
        "from learntools.core import binder\r\n",
        "binder.bind(globals())\r\n",
        "from learntools.machine_learning.ex6 import *\r\n",
        "print(\"\\nSetup complete\")"
      ],
      "execution_count": null,
      "outputs": []
    },
    {
      "cell_type": "code",
      "metadata": {
        "id": "toSLkP9tgzMI"
      },
      "source": [
        "from sklearn.ensemble import RandomForestRegressor\r\n",
        "\r\n",
        "# Define the model. Set random_state to 1\r\n",
        "rf_model = RandomForestRegressor(random_state=1)\r\n",
        "\r\n",
        "# fit your model\r\n",
        "rf_model.fit(train_X, train_y)\r\n",
        "\r\n",
        "# Calculate the mean absolute error of your Random Forest model on the validation data\r\n",
        "rf_val_predictions = rf_model.predict(val_X)\r\n",
        "rf_val_mae = mean_absolute_error(rf_val_predictions, val_y)\r\n",
        " \r\n",
        "print(\"Validation MAE for Random Forest Model: {:,.0f}\".format(rf_val_mae))\r\n",
        "\r\n",
        "# Check your answer\r\n",
        "step_1.check()"
      ],
      "execution_count": null,
      "outputs": []
    },
    {
      "cell_type": "code",
      "metadata": {
        "id": "s2HIxvZqg1CH"
      },
      "source": [
        "# The lines below will show you a hint or the solution.\r\n",
        "# step_1.hint() \r\n",
        "# step_1.solution()"
      ],
      "execution_count": null,
      "outputs": []
    },
    {
      "cell_type": "markdown",
      "metadata": {
        "id": "kUwU3EKjg2ZA"
      },
      "source": [
        "Lekcja 7 \r\n",
        "\r\n",
        "Machine Learning Competitions\r\n",
        "\r\n",
        "Podczas tej lekcji utworzyliśmy i przesłaliśmy zgłoszenie do konkursu Kaggle"
      ]
    },
    {
      "cell_type": "code",
      "metadata": {
        "id": "-S--8oBMg6AI"
      },
      "source": [
        "# Code you have previously used to load data\r\n",
        "import pandas as pd\r\n",
        "from sklearn.ensemble import RandomForestRegressor\r\n",
        "from sklearn.metrics import mean_absolute_error\r\n",
        "from sklearn.model_selection import train_test_split\r\n",
        "from sklearn.tree import DecisionTreeRegressor\r\n",
        "\r\n",
        "# Set up code checking\r\n",
        "import os\r\n",
        "if not os.path.exists(\"../input/train.csv\"):\r\n",
        "    os.symlink(\"../input/home-data-for-ml-course/train.csv\", \"../input/train.csv\")  \r\n",
        "    os.symlink(\"../input/home-data-for-ml-course/test.csv\", \"../input/test.csv\") \r\n",
        "from learntools.core import binder\r\n",
        "binder.bind(globals())\r\n",
        "from learntools.machine_learning.ex7 import *\r\n",
        "\r\n",
        "# Path of the file to read. We changed the directory structure to simplify submitting to a competition\r\n",
        "iowa_file_path = '../input/train.csv'\r\n",
        "\r\n",
        "home_data = pd.read_csv(iowa_file_path)\r\n",
        "# Create target object and call it y\r\n",
        "y = home_data.SalePrice\r\n",
        "# Create X\r\n",
        "features = ['LotArea', 'YearBuilt', '1stFlrSF', '2ndFlrSF', 'FullBath', 'BedroomAbvGr', 'TotRmsAbvGrd']\r\n",
        "X = home_data[features]\r\n",
        "\r\n",
        "# Split into validation and training data\r\n",
        "train_X, val_X, train_y, val_y = train_test_split(X, y, random_state=1)\r\n",
        "\r\n",
        "# Specify Model\r\n",
        "iowa_model = DecisionTreeRegressor(random_state=1)\r\n",
        "# Fit Model\r\n",
        "iowa_model.fit(train_X, train_y)\r\n",
        "\r\n",
        "# Make validation predictions and calculate mean absolute error\r\n",
        "val_predictions = iowa_model.predict(val_X)\r\n",
        "val_mae = mean_absolute_error(val_predictions, val_y)\r\n",
        "print(\"Validation MAE when not specifying max_leaf_nodes: {:,.0f}\".format(val_mae))\r\n",
        "\r\n",
        "# Using best value for max_leaf_nodes\r\n",
        "iowa_model = DecisionTreeRegressor(max_leaf_nodes=100, random_state=1)\r\n",
        "iowa_model.fit(train_X, train_y)\r\n",
        "val_predictions = iowa_model.predict(val_X)\r\n",
        "val_mae = mean_absolute_error(val_predictions, val_y)\r\n",
        "print(\"Validation MAE for best value of max_leaf_nodes: {:,.0f}\".format(val_mae))\r\n",
        "\r\n",
        "# Define the model. Set random_state to 1\r\n",
        "rf_model = RandomForestRegressor(random_state=1)\r\n",
        "rf_model.fit(train_X, train_y)\r\n",
        "rf_val_predictions = rf_model.predict(val_X)\r\n",
        "rf_val_mae = mean_absolute_error(rf_val_predictions, val_y)\r\n",
        "\r\n",
        "print(\"Validation MAE for Random Forest Model: {:,.0f}\".format(rf_val_mae))"
      ],
      "execution_count": null,
      "outputs": []
    },
    {
      "cell_type": "code",
      "metadata": {
        "id": "KgK8zuPXg9QX"
      },
      "source": [
        "# To improve accuracy, create a new Random Forest model which you will train on all training data\r\n",
        "rf_model_on_full_data = RandomForestRegressor()\r\n",
        "rf_model_on_full_data.fit(X, y)\r\n",
        "\r\n",
        "# fit rf_model_on_full_data on all data from the training data\r\n",
        "rf_model_on_full_data.fit(X, y)"
      ],
      "execution_count": null,
      "outputs": []
    },
    {
      "cell_type": "code",
      "metadata": {
        "id": "GW9SPJ_bg-fv"
      },
      "source": [
        "# path to file you will use for predictions\r\n",
        "test_data_path = '../input/test.csv'\r\n",
        "\r\n",
        "# read test data file using pandas\r\n",
        "test_data = pd.read_csv(test_data_path)\r\n",
        "\r\n",
        "# create test_X which comes from test_data but includes only the columns you used for prediction.\r\n",
        "# The list of columns is stored in a variable called features\r\n",
        "test_X = test_data[features]\r\n",
        "\r\n",
        "# make predictions which we will submit. \r\n",
        "test_preds = rf_model_on_full_data.predict(test_X)\r\n",
        "\r\n",
        "# The lines below shows how to save predictions in format used for competition scoring\r\n",
        "# Just uncomment them.\r\n",
        "\r\n",
        "output = pd.DataFrame({'Id': test_data.Id,\r\n",
        "                       'SalePrice': test_preds})\r\n",
        "output.to_csv('submission.csv', index=False)"
      ],
      "execution_count": null,
      "outputs": []
    },
    {
      "cell_type": "code",
      "metadata": {
        "id": "V3L0sTxJhAXn"
      },
      "source": [
        "# Check your answer\r\n",
        "step_1.check()\r\n",
        "# step_1.solution()"
      ],
      "execution_count": null,
      "outputs": []
    }
  ]
}